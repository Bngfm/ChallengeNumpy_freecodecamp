{
 "cells": [
  {
   "cell_type": "markdown",
   "id": "suited-riverside",
   "metadata": {},
   "source": [
    "# **Challenge**"
   ]
  },
  {
   "cell_type": "markdown",
   "id": "flying-henry",
   "metadata": {},
   "source": [
    "#### import numpy"
   ]
  },
  {
   "cell_type": "code",
   "execution_count": 1,
   "id": "close-wonder",
   "metadata": {},
   "outputs": [],
   "source": [
    "import numpy as np"
   ]
  },
  {
   "cell_type": "markdown",
   "id": "quantitative-treatment",
   "metadata": {},
   "source": [
    "#### dictionnary container"
   ]
  },
  {
   "cell_type": "code",
   "execution_count": 11,
   "id": "humanitarian-torture",
   "metadata": {},
   "outputs": [],
   "source": [
    "dico = {}"
   ]
  },
  {
   "cell_type": "markdown",
   "id": "inside-kazakhstan",
   "metadata": {},
   "source": [
    "### function "
   ]
  },
  {
   "cell_type": "code",
   "execution_count": 22,
   "id": "floating-demonstration",
   "metadata": {},
   "outputs": [],
   "source": [
    "def matrixFunctions(M):\n",
    "    # mean ---------------\n",
    "    mean = np.mean(M)\n",
    "    \n",
    "    # variance ----------\n",
    "    variance = np.var(M)\n",
    "    \n",
    "    # standar variance\n",
    "    std_dev_rows = np.std(M, axis=1)\n",
    "    std_dev_cols = np.std(M, axis=0)\n",
    "    std_dev_elements = np.std(M)\n",
    "    \n",
    "    dico[\"mean\"] = mean\n",
    "    dico[\"variance\"] = variance\n",
    "    dico[\"std_dev_rows\"] = std_dev_rows\n",
    "    dico[\"std_dev_cols\"] = std_dev_cols\n",
    "    dico[\"std_dev_elements\"] = std_dev_elements\n",
    "    \n",
    "    return dico"
   ]
  },
  {
   "cell_type": "markdown",
   "id": "static-stewart",
   "metadata": {},
   "source": [
    "#### create a random matrix 3x3"
   ]
  },
  {
   "cell_type": "code",
   "execution_count": 24,
   "id": "documentary-marking",
   "metadata": {},
   "outputs": [
    {
     "data": {
      "text/plain": [
       "array([[4, 0, 3],\n",
       "       [3, 3, 1],\n",
       "       [3, 2, 4]])"
      ]
     },
     "execution_count": 24,
     "metadata": {},
     "output_type": "execute_result"
    }
   ],
   "source": [
    "np.random.seed(0)\n",
    "M = np.random.randint(0,5, [3,3])\n",
    "M"
   ]
  },
  {
   "cell_type": "markdown",
   "id": "demanding-therapist",
   "metadata": {},
   "source": [
    "#### Call/Test the function"
   ]
  },
  {
   "cell_type": "code",
   "execution_count": 25,
   "id": "aging-dancing",
   "metadata": {},
   "outputs": [
    {
     "data": {
      "text/plain": [
       "{'mean': 2.5555555555555554,\n",
       " 'variance': 1.5802469135802468,\n",
       " 'std_dev_rows': array([1.69967317, 0.94280904, 0.81649658]),\n",
       " 'std_dev_cols': array([0.47140452, 1.24721913, 1.24721913]),\n",
       " 'std_dev_elements': 1.2570787221094177}"
      ]
     },
     "execution_count": 25,
     "metadata": {},
     "output_type": "execute_result"
    }
   ],
   "source": [
    "matrixFunctions(M)"
   ]
  }
 ],
 "metadata": {
  "kernelspec": {
   "display_name": "Python 3",
   "language": "python",
   "name": "python3"
  },
  "language_info": {
   "codemirror_mode": {
    "name": "ipython",
    "version": 3
   },
   "file_extension": ".py",
   "mimetype": "text/x-python",
   "name": "python",
   "nbconvert_exporter": "python",
   "pygments_lexer": "ipython3",
   "version": "3.7.0"
  }
 },
 "nbformat": 4,
 "nbformat_minor": 5
}
